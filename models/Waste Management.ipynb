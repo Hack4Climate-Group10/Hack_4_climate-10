{
 "cells": [
  {
   "cell_type": "code",
   "execution_count": 2,
   "id": "3eeae951",
   "metadata": {},
   "outputs": [],
   "source": [
    "\n",
    "import numpy as np # linear algebra\n",
    "import pandas as pd\n"
   ]
  },
  {
   "cell_type": "code",
   "execution_count": 13,
   "id": "1e39ad53",
   "metadata": {},
   "outputs": [],
   "source": [
    "df17=pd.read_csv('2003_2017_waste (1).csv')\n",
    "\n"
   ]
  },
  {
   "cell_type": "code",
   "execution_count": 14,
   "id": "4fba29a7",
   "metadata": {},
   "outputs": [],
   "source": [
    "df18=pd.read_csv('2018_2020_waste (1).csv')"
   ]
  },
  {
   "cell_type": "code",
   "execution_count": 15,
   "id": "4f274ac4",
   "metadata": {},
   "outputs": [],
   "source": [
    "dfw=pd.read_csv('waste_energy_stat (1).csv')"
   ]
  },
  {
   "cell_type": "code",
   "execution_count": 16,
   "id": "df45f09c",
   "metadata": {},
   "outputs": [
    {
     "data": {
      "text/html": [
       "<div>\n",
       "<style scoped>\n",
       "    .dataframe tbody tr th:only-of-type {\n",
       "        vertical-align: middle;\n",
       "    }\n",
       "\n",
       "    .dataframe tbody tr th {\n",
       "        vertical-align: top;\n",
       "    }\n",
       "\n",
       "    .dataframe thead th {\n",
       "        text-align: right;\n",
       "    }\n",
       "</style>\n",
       "<table border=\"1\" class=\"dataframe\">\n",
       "  <thead>\n",
       "    <tr style=\"text-align: right;\">\n",
       "      <th></th>\n",
       "      <th>waste_type</th>\n",
       "      <th>waste_disposed_of_tonne</th>\n",
       "      <th>total_waste_recycled_tonne</th>\n",
       "      <th>total_waste_generated_tonne</th>\n",
       "      <th>recycling_rate</th>\n",
       "      <th>year</th>\n",
       "    </tr>\n",
       "  </thead>\n",
       "  <tbody>\n",
       "    <tr>\n",
       "      <th>0</th>\n",
       "      <td>Food</td>\n",
       "      <td>679900</td>\n",
       "      <td>111100.0</td>\n",
       "      <td>791000</td>\n",
       "      <td>0.14</td>\n",
       "      <td>2016</td>\n",
       "    </tr>\n",
       "    <tr>\n",
       "      <th>1</th>\n",
       "      <td>Paper/Cardboard</td>\n",
       "      <td>576000</td>\n",
       "      <td>607100.0</td>\n",
       "      <td>1183100</td>\n",
       "      <td>0.51</td>\n",
       "      <td>2016</td>\n",
       "    </tr>\n",
       "    <tr>\n",
       "      <th>2</th>\n",
       "      <td>Plastics</td>\n",
       "      <td>762700</td>\n",
       "      <td>59500.0</td>\n",
       "      <td>822200</td>\n",
       "      <td>0.07</td>\n",
       "      <td>2016</td>\n",
       "    </tr>\n",
       "    <tr>\n",
       "      <th>3</th>\n",
       "      <td>C&amp;D</td>\n",
       "      <td>9700</td>\n",
       "      <td>1585700.0</td>\n",
       "      <td>1595400</td>\n",
       "      <td>0.99</td>\n",
       "      <td>2016</td>\n",
       "    </tr>\n",
       "    <tr>\n",
       "      <th>4</th>\n",
       "      <td>Horticultural waste</td>\n",
       "      <td>111500</td>\n",
       "      <td>209000.0</td>\n",
       "      <td>320500</td>\n",
       "      <td>0.65</td>\n",
       "      <td>2016</td>\n",
       "    </tr>\n",
       "  </tbody>\n",
       "</table>\n",
       "</div>"
      ],
      "text/plain": [
       "            waste_type  waste_disposed_of_tonne  total_waste_recycled_tonne  \\\n",
       "0                 Food                   679900                    111100.0   \n",
       "1      Paper/Cardboard                   576000                    607100.0   \n",
       "2             Plastics                   762700                     59500.0   \n",
       "3                  C&D                     9700                   1585700.0   \n",
       "4  Horticultural waste                   111500                    209000.0   \n",
       "\n",
       "   total_waste_generated_tonne  recycling_rate  year  \n",
       "0                       791000            0.14  2016  \n",
       "1                      1183100            0.51  2016  \n",
       "2                       822200            0.07  2016  \n",
       "3                      1595400            0.99  2016  \n",
       "4                       320500            0.65  2016  "
      ]
     },
     "execution_count": 16,
     "metadata": {},
     "output_type": "execute_result"
    }
   ],
   "source": [
    "df17.head()"
   ]
  },
  {
   "cell_type": "code",
   "execution_count": 18,
   "id": "505b066c",
   "metadata": {},
   "outputs": [
    {
     "data": {
      "text/plain": [
       "<bound method DataFrame.info of                                  waste_type  waste_disposed_of_tonne  \\\n",
       "0                                      Food                   679900   \n",
       "1                           Paper/Cardboard                   576000   \n",
       "2                                  Plastics                   762700   \n",
       "3                                       C&D                     9700   \n",
       "4                       Horticultural waste                   111500   \n",
       "..                                      ...                      ...   \n",
       "220                          Ash and sludge                   214800   \n",
       "221                                 Plastic                   763400   \n",
       "222                         Textile/Leather                   141200   \n",
       "223  Others (stones, ceramic, rubber, etc.)                   319300   \n",
       "224                                   Total                  2980000   \n",
       "\n",
       "     total_waste_recycled_tonne  total_waste_generated_tonne  recycling_rate  \\\n",
       "0                      111100.0                       791000            0.14   \n",
       "1                      607100.0                      1183100            0.51   \n",
       "2                       59500.0                       822200            0.07   \n",
       "3                     1585700.0                      1595400            0.99   \n",
       "4                      209000.0                       320500            0.65   \n",
       "..                          ...                          ...             ...   \n",
       "220                     28600.0                       243400            0.12   \n",
       "221                     51800.0                       815200            0.06   \n",
       "222                      9600.0                       150800            0.06   \n",
       "223                      7100.0                       326400            0.02   \n",
       "224                   4724300.0                      7704300            0.61   \n",
       "\n",
       "     year  \n",
       "0    2016  \n",
       "1    2016  \n",
       "2    2016  \n",
       "3    2016  \n",
       "4    2016  \n",
       "..    ...  \n",
       "220  2017  \n",
       "221  2017  \n",
       "222  2017  \n",
       "223  2017  \n",
       "224  2017  \n",
       "\n",
       "[225 rows x 6 columns]>"
      ]
     },
     "execution_count": 18,
     "metadata": {},
     "output_type": "execute_result"
    }
   ],
   "source": [
    "df17.info"
   ]
  },
  {
   "cell_type": "code",
   "execution_count": 20,
   "id": "b2136ed5",
   "metadata": {},
   "outputs": [
    {
     "data": {
      "text/html": [
       "<div>\n",
       "<style scoped>\n",
       "    .dataframe tbody tr th:only-of-type {\n",
       "        vertical-align: middle;\n",
       "    }\n",
       "\n",
       "    .dataframe tbody tr th {\n",
       "        vertical-align: top;\n",
       "    }\n",
       "\n",
       "    .dataframe thead th {\n",
       "        text-align: right;\n",
       "    }\n",
       "</style>\n",
       "<table border=\"1\" class=\"dataframe\">\n",
       "  <thead>\n",
       "    <tr style=\"text-align: right;\">\n",
       "      <th></th>\n",
       "      <th>Waste Type</th>\n",
       "      <th>Total Generated ('000 tonnes)</th>\n",
       "      <th>Total Recycled ('000 tonnes)</th>\n",
       "      <th>Year</th>\n",
       "    </tr>\n",
       "  </thead>\n",
       "  <tbody>\n",
       "    <tr>\n",
       "      <th>0</th>\n",
       "      <td>Construction&amp; Demolition</td>\n",
       "      <td>1624</td>\n",
       "      <td>1618</td>\n",
       "      <td>2018</td>\n",
       "    </tr>\n",
       "    <tr>\n",
       "      <th>1</th>\n",
       "      <td>Ferrous Metal</td>\n",
       "      <td>1269</td>\n",
       "      <td>126</td>\n",
       "      <td>2018</td>\n",
       "    </tr>\n",
       "    <tr>\n",
       "      <th>2</th>\n",
       "      <td>Paper/Cardboard</td>\n",
       "      <td>1054</td>\n",
       "      <td>586</td>\n",
       "      <td>2018</td>\n",
       "    </tr>\n",
       "    <tr>\n",
       "      <th>3</th>\n",
       "      <td>Plastics</td>\n",
       "      <td>949</td>\n",
       "      <td>41</td>\n",
       "      <td>2018</td>\n",
       "    </tr>\n",
       "    <tr>\n",
       "      <th>4</th>\n",
       "      <td>Food</td>\n",
       "      <td>763</td>\n",
       "      <td>126</td>\n",
       "      <td>2018</td>\n",
       "    </tr>\n",
       "  </tbody>\n",
       "</table>\n",
       "</div>"
      ],
      "text/plain": [
       "                 Waste Type  Total Generated ('000 tonnes)  \\\n",
       "0  Construction& Demolition                           1624   \n",
       "1             Ferrous Metal                           1269   \n",
       "2           Paper/Cardboard                           1054   \n",
       "3                  Plastics                            949   \n",
       "4                      Food                            763   \n",
       "\n",
       "   Total Recycled ('000 tonnes)  Year  \n",
       "0                          1618  2018  \n",
       "1                           126  2018  \n",
       "2                           586  2018  \n",
       "3                            41  2018  \n",
       "4                           126  2018  "
      ]
     },
     "execution_count": 20,
     "metadata": {},
     "output_type": "execute_result"
    }
   ],
   "source": [
    "df18.head()"
   ]
  },
  {
   "cell_type": "code",
   "execution_count": 22,
   "id": "9d249a8e",
   "metadata": {},
   "outputs": [
    {
     "name": "stdout",
     "output_type": "stream",
     "text": [
      "<class 'pandas.core.frame.DataFrame'>\n",
      "RangeIndex: 45 entries, 0 to 44\n",
      "Data columns (total 4 columns):\n",
      " #   Column                         Non-Null Count  Dtype \n",
      "---  ------                         --------------  ----- \n",
      " 0   Waste Type                     45 non-null     object\n",
      " 1   Total Generated ('000 tonnes)  45 non-null     int64 \n",
      " 2   Total Recycled ('000 tonnes)   45 non-null     int64 \n",
      " 3   Year                           45 non-null     int64 \n",
      "dtypes: int64(3), object(1)\n",
      "memory usage: 1.5+ KB\n"
     ]
    }
   ],
   "source": [
    "df18.info()"
   ]
  },
  {
   "cell_type": "code",
   "execution_count": 26,
   "id": "66ae262b",
   "metadata": {},
   "outputs": [
    {
     "data": {
      "text/plain": [
       "<bound method DataFrame.info of   The table gives the amount of energy saved in kilowatt hour (kWh) and the amount of crude oil (barrels) by recycling 1 metric tonne (1000 kilogram)  per waste type  \\\n",
       "0    1 barrel oil is approximately 159 litres of oil                                                                                                                    \n",
       "1                                                NaN                                                                                                                    \n",
       "2                                           material                                                                                                                    \n",
       "3                                       energy_saved                                                                                                                    \n",
       "4                                    crude_oil saved                                                                                                                    \n",
       "\n",
       "   Unnamed: 1    Unnamed: 2     Unnamed: 3         Unnamed: 4  Unnamed: 5  \n",
       "0         NaN           NaN            NaN                NaN         NaN  \n",
       "1         NaN           NaN            NaN                NaN         NaN  \n",
       "2     Plastic         Glass  Ferrous Metal  Non-Ferrous Metal       Paper  \n",
       "3    5774 Kwh        42 Kwh        642 Kwh          14000 Kwh    4100 kWh  \n",
       "4  16 barrels  0.12 barrels    1.8 barrels         40 barrels  11 barrels  >"
      ]
     },
     "execution_count": 26,
     "metadata": {},
     "output_type": "execute_result"
    }
   ],
   "source": [
    "dfw.info"
   ]
  },
  {
   "cell_type": "code",
   "execution_count": 27,
   "id": "ff116800",
   "metadata": {},
   "outputs": [],
   "source": [
    "df18 = df18.rename(columns={'Waste Type':'waste_type', \"Total Generated ('000 tonnes)\":'total_waste_generated_tonne',\n",
    "                              \"Total Recycled ('000 tonnes)\":'total_waste_recycled_tonne','Year':'year'})"
   ]
  },
  {
   "cell_type": "code",
   "execution_count": null,
   "id": "96a3ce22",
   "metadata": {},
   "outputs": [],
   "source": [
    "#Data Merging"
   ]
  },
  {
   "cell_type": "code",
   "execution_count": 28,
   "id": "75f68923",
   "metadata": {},
   "outputs": [],
   "source": [
    "df18['total_waste_generated_tonne']=df18['total_waste_generated_tonne']*1000\n",
    "df18['total_waste_recycled_tonne']=df18['total_waste_recycled_tonne']*1000\n",
    "df18['recycling_rate']=df18['total_waste_recycled_tonne']/df18['total_waste_generated_tonne']"
   ]
  },
  {
   "cell_type": "code",
   "execution_count": 31,
   "id": "e3b6740f",
   "metadata": {},
   "outputs": [
    {
     "data": {
      "text/html": [
       "<div>\n",
       "<style scoped>\n",
       "    .dataframe tbody tr th:only-of-type {\n",
       "        vertical-align: middle;\n",
       "    }\n",
       "\n",
       "    .dataframe tbody tr th {\n",
       "        vertical-align: top;\n",
       "    }\n",
       "\n",
       "    .dataframe thead th {\n",
       "        text-align: right;\n",
       "    }\n",
       "</style>\n",
       "<table border=\"1\" class=\"dataframe\">\n",
       "  <thead>\n",
       "    <tr style=\"text-align: right;\">\n",
       "      <th></th>\n",
       "      <th>waste_type</th>\n",
       "      <th>total_waste_generated_tonne</th>\n",
       "      <th>total_waste_recycled_tonne</th>\n",
       "      <th>year</th>\n",
       "      <th>recycling_rate</th>\n",
       "    </tr>\n",
       "  </thead>\n",
       "  <tbody>\n",
       "    <tr>\n",
       "      <th>0</th>\n",
       "      <td>Construction&amp; Demolition</td>\n",
       "      <td>1624000</td>\n",
       "      <td>1618000</td>\n",
       "      <td>2018</td>\n",
       "      <td>0.996305</td>\n",
       "    </tr>\n",
       "    <tr>\n",
       "      <th>1</th>\n",
       "      <td>Ferrous Metal</td>\n",
       "      <td>1269000</td>\n",
       "      <td>126000</td>\n",
       "      <td>2018</td>\n",
       "      <td>0.099291</td>\n",
       "    </tr>\n",
       "    <tr>\n",
       "      <th>2</th>\n",
       "      <td>Paper/Cardboard</td>\n",
       "      <td>1054000</td>\n",
       "      <td>586000</td>\n",
       "      <td>2018</td>\n",
       "      <td>0.555977</td>\n",
       "    </tr>\n",
       "    <tr>\n",
       "      <th>3</th>\n",
       "      <td>Plastics</td>\n",
       "      <td>949000</td>\n",
       "      <td>41000</td>\n",
       "      <td>2018</td>\n",
       "      <td>0.043203</td>\n",
       "    </tr>\n",
       "    <tr>\n",
       "      <th>4</th>\n",
       "      <td>Food</td>\n",
       "      <td>763000</td>\n",
       "      <td>126000</td>\n",
       "      <td>2018</td>\n",
       "      <td>0.165138</td>\n",
       "    </tr>\n",
       "  </tbody>\n",
       "</table>\n",
       "</div>"
      ],
      "text/plain": [
       "                 waste_type  total_waste_generated_tonne  \\\n",
       "0  Construction& Demolition                      1624000   \n",
       "1             Ferrous Metal                      1269000   \n",
       "2           Paper/Cardboard                      1054000   \n",
       "3                  Plastics                       949000   \n",
       "4                      Food                       763000   \n",
       "\n",
       "   total_waste_recycled_tonne  year  recycling_rate  \n",
       "0                     1618000  2018        0.996305  \n",
       "1                      126000  2018        0.099291  \n",
       "2                      586000  2018        0.555977  \n",
       "3                       41000  2018        0.043203  \n",
       "4                      126000  2018        0.165138  "
      ]
     },
     "execution_count": 31,
     "metadata": {},
     "output_type": "execute_result"
    }
   ],
   "source": [
    "df18.head()"
   ]
  },
  {
   "cell_type": "code",
   "execution_count": 32,
   "id": "8dc52fea",
   "metadata": {},
   "outputs": [],
   "source": [
    "df18.iloc[19,1]=744\n",
    "df18.iloc[1,2]=1260"
   ]
  },
  {
   "cell_type": "code",
   "execution_count": 35,
   "id": "7ee9cdfa",
   "metadata": {},
   "outputs": [],
   "source": [
    "df18['recycling_rate']=df18['recycling_rate'].round(2)"
   ]
  },
  {
   "cell_type": "code",
   "execution_count": 36,
   "id": "cd8b35ee",
   "metadata": {},
   "outputs": [
    {
     "data": {
      "text/html": [
       "<div>\n",
       "<style scoped>\n",
       "    .dataframe tbody tr th:only-of-type {\n",
       "        vertical-align: middle;\n",
       "    }\n",
       "\n",
       "    .dataframe tbody tr th {\n",
       "        vertical-align: top;\n",
       "    }\n",
       "\n",
       "    .dataframe thead th {\n",
       "        text-align: right;\n",
       "    }\n",
       "</style>\n",
       "<table border=\"1\" class=\"dataframe\">\n",
       "  <thead>\n",
       "    <tr style=\"text-align: right;\">\n",
       "      <th></th>\n",
       "      <th>waste_type</th>\n",
       "      <th>total_waste_generated_tonne</th>\n",
       "      <th>total_waste_recycled_tonne</th>\n",
       "      <th>year</th>\n",
       "      <th>recycling_rate</th>\n",
       "    </tr>\n",
       "  </thead>\n",
       "  <tbody>\n",
       "    <tr>\n",
       "      <th>0</th>\n",
       "      <td>Construction&amp; Demolition</td>\n",
       "      <td>1624000</td>\n",
       "      <td>1618000</td>\n",
       "      <td>2018</td>\n",
       "      <td>1.00</td>\n",
       "    </tr>\n",
       "    <tr>\n",
       "      <th>1</th>\n",
       "      <td>Ferrous Metal</td>\n",
       "      <td>1269000</td>\n",
       "      <td>1260</td>\n",
       "      <td>2018</td>\n",
       "      <td>0.10</td>\n",
       "    </tr>\n",
       "    <tr>\n",
       "      <th>2</th>\n",
       "      <td>Paper/Cardboard</td>\n",
       "      <td>1054000</td>\n",
       "      <td>586000</td>\n",
       "      <td>2018</td>\n",
       "      <td>0.56</td>\n",
       "    </tr>\n",
       "    <tr>\n",
       "      <th>3</th>\n",
       "      <td>Plastics</td>\n",
       "      <td>949000</td>\n",
       "      <td>41000</td>\n",
       "      <td>2018</td>\n",
       "      <td>0.04</td>\n",
       "    </tr>\n",
       "    <tr>\n",
       "      <th>4</th>\n",
       "      <td>Food</td>\n",
       "      <td>763000</td>\n",
       "      <td>126000</td>\n",
       "      <td>2018</td>\n",
       "      <td>0.17</td>\n",
       "    </tr>\n",
       "  </tbody>\n",
       "</table>\n",
       "</div>"
      ],
      "text/plain": [
       "                 waste_type  total_waste_generated_tonne  \\\n",
       "0  Construction& Demolition                      1624000   \n",
       "1             Ferrous Metal                      1269000   \n",
       "2           Paper/Cardboard                      1054000   \n",
       "3                  Plastics                       949000   \n",
       "4                      Food                       763000   \n",
       "\n",
       "   total_waste_recycled_tonne  year  recycling_rate  \n",
       "0                     1618000  2018            1.00  \n",
       "1                        1260  2018            0.10  \n",
       "2                      586000  2018            0.56  \n",
       "3                       41000  2018            0.04  \n",
       "4                      126000  2018            0.17  "
      ]
     },
     "execution_count": 36,
     "metadata": {},
     "output_type": "execute_result"
    }
   ],
   "source": [
    "df18.head()"
   ]
  },
  {
   "cell_type": "code",
   "execution_count": 37,
   "id": "34d5e907",
   "metadata": {},
   "outputs": [],
   "source": [
    "df17=df17.drop('waste_disposed_of_tonne',axis=1)"
   ]
  },
  {
   "cell_type": "code",
   "execution_count": 38,
   "id": "50428216",
   "metadata": {},
   "outputs": [
    {
     "data": {
      "text/html": [
       "<div>\n",
       "<style scoped>\n",
       "    .dataframe tbody tr th:only-of-type {\n",
       "        vertical-align: middle;\n",
       "    }\n",
       "\n",
       "    .dataframe tbody tr th {\n",
       "        vertical-align: top;\n",
       "    }\n",
       "\n",
       "    .dataframe thead th {\n",
       "        text-align: right;\n",
       "    }\n",
       "</style>\n",
       "<table border=\"1\" class=\"dataframe\">\n",
       "  <thead>\n",
       "    <tr style=\"text-align: right;\">\n",
       "      <th></th>\n",
       "      <th>waste_type</th>\n",
       "      <th>total_waste_recycled_tonne</th>\n",
       "      <th>total_waste_generated_tonne</th>\n",
       "      <th>recycling_rate</th>\n",
       "      <th>year</th>\n",
       "    </tr>\n",
       "  </thead>\n",
       "  <tbody>\n",
       "    <tr>\n",
       "      <th>0</th>\n",
       "      <td>Food</td>\n",
       "      <td>111100.0</td>\n",
       "      <td>791000</td>\n",
       "      <td>0.14</td>\n",
       "      <td>2016</td>\n",
       "    </tr>\n",
       "    <tr>\n",
       "      <th>1</th>\n",
       "      <td>Paper/Cardboard</td>\n",
       "      <td>607100.0</td>\n",
       "      <td>1183100</td>\n",
       "      <td>0.51</td>\n",
       "      <td>2016</td>\n",
       "    </tr>\n",
       "    <tr>\n",
       "      <th>2</th>\n",
       "      <td>Plastics</td>\n",
       "      <td>59500.0</td>\n",
       "      <td>822200</td>\n",
       "      <td>0.07</td>\n",
       "      <td>2016</td>\n",
       "    </tr>\n",
       "    <tr>\n",
       "      <th>3</th>\n",
       "      <td>C&amp;D</td>\n",
       "      <td>1585700.0</td>\n",
       "      <td>1595400</td>\n",
       "      <td>0.99</td>\n",
       "      <td>2016</td>\n",
       "    </tr>\n",
       "    <tr>\n",
       "      <th>4</th>\n",
       "      <td>Horticultural waste</td>\n",
       "      <td>209000.0</td>\n",
       "      <td>320500</td>\n",
       "      <td>0.65</td>\n",
       "      <td>2016</td>\n",
       "    </tr>\n",
       "  </tbody>\n",
       "</table>\n",
       "</div>"
      ],
      "text/plain": [
       "            waste_type  total_waste_recycled_tonne  \\\n",
       "0                 Food                    111100.0   \n",
       "1      Paper/Cardboard                    607100.0   \n",
       "2             Plastics                     59500.0   \n",
       "3                  C&D                   1585700.0   \n",
       "4  Horticultural waste                    209000.0   \n",
       "\n",
       "   total_waste_generated_tonne  recycling_rate  year  \n",
       "0                       791000            0.14  2016  \n",
       "1                      1183100            0.51  2016  \n",
       "2                       822200            0.07  2016  \n",
       "3                      1595400            0.99  2016  \n",
       "4                       320500            0.65  2016  "
      ]
     },
     "execution_count": 38,
     "metadata": {},
     "output_type": "execute_result"
    }
   ],
   "source": [
    "df17.head()"
   ]
  },
  {
   "cell_type": "code",
   "execution_count": 40,
   "id": "3177f370",
   "metadata": {},
   "outputs": [],
   "source": [
    "df=pd.concat([df17, df18])"
   ]
  },
  {
   "cell_type": "code",
   "execution_count": 41,
   "id": "52ec2515",
   "metadata": {},
   "outputs": [
    {
     "data": {
      "text/plain": [
       "array(['Food', 'Paper/Cardboard', 'Plastics', 'C&D',\n",
       "       'Horticultural waste', 'Wood', 'Ferrous metal',\n",
       "       'Non-ferrous metal', 'Used slag', 'Ash & Sludge', 'Glass',\n",
       "       'Textile/Leather', 'Scrap tyres',\n",
       "       'Others (stones, ceramics & rubber etc.)', 'Total',\n",
       "       'Others (stones, ceramics & rubber etc)', 'Food waste',\n",
       "       'Construction Debris', 'Wood/Timber', 'Horticultural Waste',\n",
       "       'Ferrous Metal', 'Non-ferrous Metals', 'Used Slag', 'Sludge',\n",
       "       'Scrap Tyres', 'Ferrous Metals', 'Others', 'Construction debris',\n",
       "       'Non-ferrous metals', 'Ash and sludge', 'Plastic',\n",
       "       'Others (stones, ceramic, rubber, etc.)',\n",
       "       'Construction& Demolition', 'Horticultural', 'Non-Ferrous Metal',\n",
       "       'Others (stones, ceramic, rubber, ect)', 'Overall',\n",
       "       'Construction & Demolition', 'Ash & sludge',\n",
       "       'Others (stones, ceramics, etc.)'], dtype=object)"
      ]
     },
     "execution_count": 41,
     "metadata": {},
     "output_type": "execute_result"
    }
   ],
   "source": [
    "df['waste_type'].unique()"
   ]
  },
  {
   "cell_type": "code",
   "execution_count": 42,
   "id": "fa2a1d49",
   "metadata": {},
   "outputs": [],
   "source": [
    "df['waste_type']=df['waste_type'].str.lower()"
   ]
  },
  {
   "cell_type": "code",
   "execution_count": 46,
   "id": "3b3945d4",
   "metadata": {},
   "outputs": [
    {
     "data": {
      "text/plain": [
       "food                                      18\n",
       "paper/cardboard                           18\n",
       "plastics                                  18\n",
       "construction debris                       18\n",
       "horticultural waste                       18\n",
       "wood/timber                               18\n",
       "ferrous metals                            18\n",
       "non-ferrous metals                        18\n",
       "used slag                                 18\n",
       "ash and sludge                            18\n",
       "glass                                     18\n",
       "textile/leather                           18\n",
       "scrap tyres                               18\n",
       "others (stones, ceramics & rubber etc)    18\n",
       "total                                     18\n",
       "Name: waste_type, dtype: int64"
      ]
     },
     "execution_count": 46,
     "metadata": {},
     "output_type": "execute_result"
    }
   ],
   "source": [
    " df['waste_type'].value_counts()"
   ]
  },
  {
   "cell_type": "code",
   "execution_count": 44,
   "id": "6657d0fe",
   "metadata": {},
   "outputs": [],
   "source": [
    "df=df.replace('plastic','plastics') \n",
    "df=df.replace('overall','total')\n",
    "df=df.replace('horticultural','horticultural waste')\n",
    "df=df.replace('ferrous metal','ferrous metals')\n",
    "df=df.replace('non-ferrous metal','non-ferrous metals')\n",
    "df=df.replace(['construction& demolition','construction & demolition','c&d'],'construction debris')\n",
    "df=df.replace(['others (stones, ceramic, rubber, ect)','others (stones, ceramics, etc.)','others',\n",
    "               'others (stones, ceramic, rubber, etc.)','others (stones, ceramics & rubber etc.)'],'others (stones, ceramics & rubber etc)')\n",
    "df=df.replace('food waste','food')\n",
    "df=df.replace('wood','wood/timber')\n",
    "df=df.replace(['ash & sludge','sludge'],'ash and sludge')"
   ]
  },
  {
   "cell_type": "code",
   "execution_count": 45,
   "id": "c124a86f",
   "metadata": {},
   "outputs": [
    {
     "data": {
      "text/plain": [
       "food                                      18\n",
       "paper/cardboard                           18\n",
       "plastics                                  18\n",
       "construction debris                       18\n",
       "horticultural waste                       18\n",
       "wood/timber                               18\n",
       "ferrous metals                            18\n",
       "non-ferrous metals                        18\n",
       "used slag                                 18\n",
       "ash and sludge                            18\n",
       "glass                                     18\n",
       "textile/leather                           18\n",
       "scrap tyres                               18\n",
       "others (stones, ceramics & rubber etc)    18\n",
       "total                                     18\n",
       "Name: waste_type, dtype: int64"
      ]
     },
     "execution_count": 45,
     "metadata": {},
     "output_type": "execute_result"
    }
   ],
   "source": [
    "df['waste_type'].value_counts()"
   ]
  },
  {
   "cell_type": "markdown",
   "id": "061b2c13",
   "metadata": {},
   "source": [
    "# 2.Visualization"
   ]
  },
  {
   "cell_type": "code",
   "execution_count": 47,
   "id": "521f8964",
   "metadata": {},
   "outputs": [],
   "source": [
    "import matplotlib.pyplot as plt\n",
    "import seaborn as sns\n",
    "import plotly.express as px\n",
    "import plotly.graph_objects as go\n",
    "from plotly.subplots import make_subplots\n",
    "import datetime"
   ]
  },
  {
   "cell_type": "code",
   "execution_count": 48,
   "id": "99fada70",
   "metadata": {},
   "outputs": [],
   "source": [
    "df_total=df[df['waste_type']=='total']"
   ]
  },
  {
   "cell_type": "code",
   "execution_count": 49,
   "id": "0333da28",
   "metadata": {},
   "outputs": [],
   "source": [
    "df_total= df_total.sort_values('year')"
   ]
  },
  {
   "cell_type": "code",
   "execution_count": 50,
   "id": "0ad61762",
   "metadata": {},
   "outputs": [
    {
     "data": {
      "text/html": [
       "<div>\n",
       "<style scoped>\n",
       "    .dataframe tbody tr th:only-of-type {\n",
       "        vertical-align: middle;\n",
       "    }\n",
       "\n",
       "    .dataframe tbody tr th {\n",
       "        vertical-align: top;\n",
       "    }\n",
       "\n",
       "    .dataframe thead th {\n",
       "        text-align: right;\n",
       "    }\n",
       "</style>\n",
       "<table border=\"1\" class=\"dataframe\">\n",
       "  <thead>\n",
       "    <tr style=\"text-align: right;\">\n",
       "      <th></th>\n",
       "      <th>waste_type</th>\n",
       "      <th>total_waste_recycled_tonne</th>\n",
       "      <th>total_waste_generated_tonne</th>\n",
       "      <th>recycling_rate</th>\n",
       "      <th>year</th>\n",
       "    </tr>\n",
       "  </thead>\n",
       "  <tbody>\n",
       "    <tr>\n",
       "      <th>209</th>\n",
       "      <td>total</td>\n",
       "      <td>2223200.0</td>\n",
       "      <td>4728200</td>\n",
       "      <td>0.47</td>\n",
       "      <td>2003</td>\n",
       "    </tr>\n",
       "    <tr>\n",
       "      <th>194</th>\n",
       "      <td>total</td>\n",
       "      <td>2307100.0</td>\n",
       "      <td>4789700</td>\n",
       "      <td>0.48</td>\n",
       "      <td>2004</td>\n",
       "    </tr>\n",
       "    <tr>\n",
       "      <th>179</th>\n",
       "      <td>total</td>\n",
       "      <td>2469400.0</td>\n",
       "      <td>5018200</td>\n",
       "      <td>0.49</td>\n",
       "      <td>2005</td>\n",
       "    </tr>\n",
       "    <tr>\n",
       "      <th>164</th>\n",
       "      <td>total</td>\n",
       "      <td>2656900.0</td>\n",
       "      <td>5220500</td>\n",
       "      <td>0.51</td>\n",
       "      <td>2006</td>\n",
       "    </tr>\n",
       "    <tr>\n",
       "      <th>149</th>\n",
       "      <td>total</td>\n",
       "      <td>3034800.0</td>\n",
       "      <td>5600800</td>\n",
       "      <td>0.54</td>\n",
       "      <td>2007</td>\n",
       "    </tr>\n",
       "  </tbody>\n",
       "</table>\n",
       "</div>"
      ],
      "text/plain": [
       "    waste_type  total_waste_recycled_tonne  total_waste_generated_tonne  \\\n",
       "209      total                   2223200.0                      4728200   \n",
       "194      total                   2307100.0                      4789700   \n",
       "179      total                   2469400.0                      5018200   \n",
       "164      total                   2656900.0                      5220500   \n",
       "149      total                   3034800.0                      5600800   \n",
       "\n",
       "     recycling_rate  year  \n",
       "209            0.47  2003  \n",
       "194            0.48  2004  \n",
       "179            0.49  2005  \n",
       "164            0.51  2006  \n",
       "149            0.54  2007  "
      ]
     },
     "execution_count": 50,
     "metadata": {},
     "output_type": "execute_result"
    }
   ],
   "source": [
    "df_total.head()"
   ]
  },
  {
   "cell_type": "code",
   "execution_count": 51,
   "id": "46a30159",
   "metadata": {},
   "outputs": [
    {
     "data": {
      "text/plain": [
       "waste_type                      object\n",
       "total_waste_recycled_tonne     float64\n",
       "total_waste_generated_tonne      int64\n",
       "recycling_rate                 float64\n",
       "year                             int64\n",
       "dtype: object"
      ]
     },
     "execution_count": 51,
     "metadata": {},
     "output_type": "execute_result"
    }
   ],
   "source": [
    "df_total.dtypes"
   ]
  },
  {
   "cell_type": "markdown",
   "id": "9e83b270",
   "metadata": {},
   "source": [
    "# The portion of 'total_waste_generated_tonne' by 'waste_type'"
   ]
  },
  {
   "cell_type": "code",
   "execution_count": 52,
   "id": "9cafa4fe",
   "metadata": {},
   "outputs": [
    {
     "data": {
      "text/plain": [
       "<AxesSubplot:ylabel='total_waste_generated_tonne'>"
      ]
     },
     "execution_count": 52,
     "metadata": {},
     "output_type": "execute_result"
    },
    {
     "data": {
      "image/png": "[encoded data removed]",
      "text/plain": [
       "<Figure size 576x576 with 1 Axes>"
      ]
     },
     "metadata": {},
     "output_type": "display_data"
    }
   ],
   "source": [
    "df1=df[df['waste_type'] != 'total']\n",
    "df1.groupby('waste_type')['total_waste_generated_tonne'].sum().plot.pie(figsize=(8,8),autopct='%1.1f%%')"
   ]
  },
  {
   "cell_type": "code",
   "execution_count": 53,
   "id": "49b821b1",
   "metadata": {},
   "outputs": [],
   "source": [
    "df_energy_save=df[df['waste_type'].isin(['plastics','glass','ferrous metals','non-ferrous metals','paper/cardboard'])]"
   ]
  },
  {
   "cell_type": "code",
   "execution_count": 54,
   "id": "9b5d7b73",
   "metadata": {},
   "outputs": [
    {
     "data": {
      "text/html": [
       "<div>\n",
       "<style scoped>\n",
       "    .dataframe tbody tr th:only-of-type {\n",
       "        vertical-align: middle;\n",
       "    }\n",
       "\n",
       "    .dataframe tbody tr th {\n",
       "        vertical-align: top;\n",
       "    }\n",
       "\n",
       "    .dataframe thead th {\n",
       "        text-align: right;\n",
       "    }\n",
       "</style>\n",
       "<table border=\"1\" class=\"dataframe\">\n",
       "  <thead>\n",
       "    <tr style=\"text-align: right;\">\n",
       "      <th></th>\n",
       "      <th>waste_type</th>\n",
       "      <th>total_waste_recycled_tonne</th>\n",
       "      <th>total_waste_generated_tonne</th>\n",
       "      <th>recycling_rate</th>\n",
       "      <th>year</th>\n",
       "    </tr>\n",
       "  </thead>\n",
       "  <tbody>\n",
       "    <tr>\n",
       "      <th>1</th>\n",
       "      <td>paper/cardboard</td>\n",
       "      <td>607100.0</td>\n",
       "      <td>1183100</td>\n",
       "      <td>0.51</td>\n",
       "      <td>2016</td>\n",
       "    </tr>\n",
       "    <tr>\n",
       "      <th>2</th>\n",
       "      <td>plastics</td>\n",
       "      <td>59500.0</td>\n",
       "      <td>822200</td>\n",
       "      <td>0.07</td>\n",
       "      <td>2016</td>\n",
       "    </tr>\n",
       "    <tr>\n",
       "      <th>6</th>\n",
       "      <td>ferrous metals</td>\n",
       "      <td>1351500.0</td>\n",
       "      <td>1357500</td>\n",
       "      <td>0.99</td>\n",
       "      <td>2016</td>\n",
       "    </tr>\n",
       "    <tr>\n",
       "      <th>7</th>\n",
       "      <td>non-ferrous metals</td>\n",
       "      <td>95900.0</td>\n",
       "      <td>97200</td>\n",
       "      <td>0.99</td>\n",
       "      <td>2016</td>\n",
       "    </tr>\n",
       "    <tr>\n",
       "      <th>10</th>\n",
       "      <td>glass</td>\n",
       "      <td>14700.0</td>\n",
       "      <td>72300</td>\n",
       "      <td>0.20</td>\n",
       "      <td>2016</td>\n",
       "    </tr>\n",
       "  </tbody>\n",
       "</table>\n",
       "</div>"
      ],
      "text/plain": [
       "            waste_type  total_waste_recycled_tonne  \\\n",
       "1      paper/cardboard                    607100.0   \n",
       "2             plastics                     59500.0   \n",
       "6       ferrous metals                   1351500.0   \n",
       "7   non-ferrous metals                     95900.0   \n",
       "10               glass                     14700.0   \n",
       "\n",
       "    total_waste_generated_tonne  recycling_rate  year  \n",
       "1                       1183100            0.51  2016  \n",
       "2                        822200            0.07  2016  \n",
       "6                       1357500            0.99  2016  \n",
       "7                         97200            0.99  2016  \n",
       "10                        72300            0.20  2016  "
      ]
     },
     "execution_count": 54,
     "metadata": {},
     "output_type": "execute_result"
    }
   ],
   "source": [
    "df_energy_save.head()"
   ]
  },
  {
   "cell_type": "code",
   "execution_count": null,
   "id": "bcb44bbb",
   "metadata": {},
   "outputs": [],
   "source": []
  }
 ],
 "metadata": {
  "kernelspec": {
   "display_name": "Python 3 (ipykernel)",
   "language": "python",
   "name": "python3"
  },
  "language_info": {
   "codemirror_mode": {
    "name": "ipython",
    "version": 3
   },
   "file_extension": ".py",
   "mimetype": "text/x-python",
   "name": "python",
   "nbconvert_exporter": "python",
   "pygments_lexer": "ipython3",
   "version": "3.9.7"
  }
 },
 "nbformat": 4,
 "nbformat_minor": 5
}
